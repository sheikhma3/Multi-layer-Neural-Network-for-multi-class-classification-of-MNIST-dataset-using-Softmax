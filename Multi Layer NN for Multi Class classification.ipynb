{
 "cells": [
  {
   "cell_type": "code",
   "execution_count": 3,
   "metadata": {
    "collapsed": true
   },
   "outputs": [],
   "source": [
    "from PIL import Image\n",
    "import os\n",
    "import glob\n",
    "import numpy as np\n",
    "from scipy.io import loadmat\n",
    "import matplotlib.pyplot as plt\n",
    "from IPython.core.debugger import set_trace\n",
    "from scipy.misc import imshow\n",
    "from scipy.misc import toimage\n",
    "import time\n",
    "from sklearn.metrics import accuracy_score\n",
    "import random\n",
    "from sklearn.utils import shuffle\n",
    "import math\n"
   ]
  },
  {
   "cell_type": "code",
   "execution_count": 4,
   "metadata": {
    "collapsed": true
   },
   "outputs": [],
   "source": [
    "def load_dataset(path):\n",
    "    print ('Loading Dataset...')\n",
    "    train_set_x=[]\n",
    "    train_set_y=[]\n",
    "    test_set_x=[]\n",
    "    test_set_y=[]\n",
    "    for i in range(10):\n",
    "        for filename in glob.glob(path+'\\\\train\\\\'+str(i)+'\\\\*.png'):\n",
    "            im=plt.imread(filename)\n",
    "            train_set_x.append(im)\n",
    "            train_set_y.append(i)\n",
    "            \n",
    "    for i in range(10):\n",
    "        for filename in glob.glob(path+'\\\\test\\\\'+str(i)+'\\\\*.png'):\n",
    "            im=plt.imread(filename)\n",
    "            test_set_x.append(im)\n",
    "            test_set_y.append(i)\n",
    "            \n",
    "    print('Dataset Loaded.')\n",
    "    return np.array(train_set_x),np.array(train_set_y),np.array(test_set_x),np.array(test_set_y)\n",
    "    \n",
    "    "
   ]
  },
  {
   "cell_type": "code",
   "execution_count": 7,
   "metadata": {},
   "outputs": [
    {
     "name": "stdout",
     "output_type": "stream",
     "text": [
      "Loading Dataset...\n",
      "Dataset Loaded.\n"
     ]
    }
   ],
   "source": [
    "train_set_x, train_set_y, test_set_x, test_set_y = load_dataset('.\\\\Task3_Data')"
   ]
  },
  {
   "cell_type": "code",
   "execution_count": 8,
   "metadata": {},
   "outputs": [
    {
     "data": {
      "image/png": "[encoded data removed]",
      "text/plain": [
       "<matplotlib.figure.Figure at 0x9695588>"
      ]
     },
     "metadata": {},
     "output_type": "display_data"
    }
   ],
   "source": [
    "plt.imshow(train_set_x[0]) \n",
    "plt.show() "
   ]
  },
  {
   "cell_type": "code",
   "execution_count": null,
   "metadata": {
    "collapsed": true
   },
   "outputs": [],
   "source": []
  },
  {
   "cell_type": "code",
   "execution_count": 9,
   "metadata": {},
   "outputs": [
    {
     "name": "stdout",
     "output_type": "stream",
     "text": [
      "(60000, 28, 28)\n",
      "(60000,)\n",
      "(10000, 28, 28)\n",
      "(10000,)\n"
     ]
    }
   ],
   "source": [
    "print(train_set_x.shape)\n",
    "print(train_set_y.shape)\n",
    "print(test_set_x.shape)\n",
    "print(test_set_y.shape)"
   ]
  },
  {
   "cell_type": "code",
   "execution_count": 10,
   "metadata": {
    "collapsed": true
   },
   "outputs": [],
   "source": [
    "train_set_y= train_set_y.reshape(60000,1)\n",
    "test_set_y= test_set_y.reshape(10000,1)"
   ]
  },
  {
   "cell_type": "code",
   "execution_count": 11,
   "metadata": {},
   "outputs": [
    {
     "name": "stdout",
     "output_type": "stream",
     "text": [
      "(60000, 28, 28)\n",
      "(60000, 1)\n",
      "(10000, 28, 28)\n",
      "(10000, 1)\n"
     ]
    }
   ],
   "source": [
    "print(train_set_x.shape)\n",
    "print(train_set_y.shape)\n",
    "print(test_set_x.shape)\n",
    "print(test_set_y.shape)"
   ]
  },
  {
   "cell_type": "code",
   "execution_count": 12,
   "metadata": {
    "collapsed": true
   },
   "outputs": [],
   "source": [
    "train_x_flatten=train_set_x.reshape(60000,784)\n",
    "test_x_flatten=test_set_x.reshape(10000,784)"
   ]
  },
  {
   "cell_type": "code",
   "execution_count": 13,
   "metadata": {},
   "outputs": [
    {
     "data": {
      "image/png": "[encoded data removed]",
      "text/plain": [
       "<matplotlib.figure.Figure at 0xedbca90>"
      ]
     },
     "metadata": {},
     "output_type": "display_data"
    }
   ],
   "source": [
    "plt.imshow(train_x_flatten[0].reshape(28,28)) \n",
    "plt.show()"
   ]
  },
  {
   "cell_type": "code",
   "execution_count": null,
   "metadata": {
    "collapsed": true
   },
   "outputs": [],
   "source": []
  },
  {
   "cell_type": "code",
   "execution_count": 14,
   "metadata": {
    "collapsed": true
   },
   "outputs": [],
   "source": [
    "mean_train=train_x_flatten.mean(axis=1,keepdims=True)\n",
    "mean_test=test_x_flatten.mean(axis=1,keepdims=True)"
   ]
  },
  {
   "cell_type": "code",
   "execution_count": 15,
   "metadata": {},
   "outputs": [
    {
     "data": {
      "text/plain": [
       "(60000, 1)"
      ]
     },
     "execution_count": 15,
     "metadata": {},
     "output_type": "execute_result"
    }
   ],
   "source": [
    "mean_train.shape"
   ]
  },
  {
   "cell_type": "code",
   "execution_count": 16,
   "metadata": {
    "collapsed": true
   },
   "outputs": [],
   "source": [
    "train_x_Mean_subtracted=train_x_flatten-mean_train\n",
    "test_x_Mean_subtracted=test_x_flatten-mean_test"
   ]
  },
  {
   "cell_type": "code",
   "execution_count": 17,
   "metadata": {
    "collapsed": true
   },
   "outputs": [],
   "source": [
    "X=train_x_Mean_subtracted.reshape(60000,28,28)"
   ]
  },
  {
   "cell_type": "code",
   "execution_count": 18,
   "metadata": {},
   "outputs": [
    {
     "data": {
      "image/png": "[encoded data removed]",
      "text/plain": [
       "<matplotlib.figure.Figure at 0x56752e8>"
      ]
     },
     "metadata": {},
     "output_type": "display_data"
    }
   ],
   "source": [
    "plt.imshow(X[0]) \n",
    "plt.show() "
   ]
  },
  {
   "cell_type": "code",
   "execution_count": null,
   "metadata": {
    "collapsed": true
   },
   "outputs": [],
   "source": []
  },
  {
   "cell_type": "code",
   "execution_count": 19,
   "metadata": {
    "collapsed": true
   },
   "outputs": [],
   "source": [
    "train_x_Mean_subtracted_flatten=train_x_Mean_subtracted.copy()\n",
    "test_x_Mean_subtracted_flatten=test_x_Mean_subtracted.copy()"
   ]
  },
  {
   "cell_type": "code",
   "execution_count": 20,
   "metadata": {
    "collapsed": true
   },
   "outputs": [],
   "source": [
    "train_x_Mean_subtracted_flatten, train_set_y = shuffle(train_x_Mean_subtracted_flatten, train_set_y)\n",
    "#test_x_Mean_subtracted_flatten, test_set_y = shuffle(test_x_Mean_subtracted_flatten, test_set_y)"
   ]
  },
  {
   "cell_type": "code",
   "execution_count": 21,
   "metadata": {
    "collapsed": true
   },
   "outputs": [],
   "source": [
    "train_label_OHE=np.zeros([60000,10])\n",
    "test_label_OHE=np.zeros([10000,10])\n",
    "for i,each_training_label in enumerate(train_set_y):\n",
    "    train_label_OHE[i][each_training_label]=1\n",
    "    \n",
    "for i,each_test_label in enumerate(test_set_y):\n",
    "    test_label_OHE[i][each_test_label]=1\n"
   ]
  },
  {
   "cell_type": "code",
   "execution_count": 22,
   "metadata": {
    "collapsed": true
   },
   "outputs": [],
   "source": [
    "X=train_x_Mean_subtracted.reshape(60000,28,28)"
   ]
  },
  {
   "cell_type": "code",
   "execution_count": 23,
   "metadata": {},
   "outputs": [
    {
     "data": {
      "text/plain": [
       "array([0., 0., 0., 0., 0., 0., 1., 0., 0., 0.])"
      ]
     },
     "execution_count": 23,
     "metadata": {},
     "output_type": "execute_result"
    }
   ],
   "source": [
    "train_label_OHE[500]"
   ]
  },
  {
   "cell_type": "code",
   "execution_count": 24,
   "metadata": {},
   "outputs": [
    {
     "data": {
      "image/png": "[encoded data removed]",
      "text/plain": [
       "<matplotlib.figure.Figure at 0x7999eb8>"
      ]
     },
     "metadata": {},
     "output_type": "display_data"
    }
   ],
   "source": [
    "plt.imshow(X[500]) \n",
    "plt.show() "
   ]
  },
  {
   "cell_type": "code",
   "execution_count": 25,
   "metadata": {
    "collapsed": true
   },
   "outputs": [],
   "source": [
    "# for i in range(0,60000):\n",
    "#     train_label_OHE[i]=train_label_OHE[i].reshape((10,1))"
   ]
  },
  {
   "cell_type": "code",
   "execution_count": 26,
   "metadata": {
    "collapsed": true
   },
   "outputs": [],
   "source": [
    "def sigmoid(s):\n",
    "    # activation function\n",
    "    return 1/(1+np.exp(-s))"
   ]
  },
  {
   "cell_type": "code",
   "execution_count": 27,
   "metadata": {
    "collapsed": true
   },
   "outputs": [],
   "source": [
    "def sigmoid_derivative(s):\n",
    "        #derivative of sigmoid\n",
    "        return np.exp(-s)/((1+np.exp(-s))**2)"
   ]
  },
  {
   "cell_type": "code",
   "execution_count": 28,
   "metadata": {
    "collapsed": true
   },
   "outputs": [],
   "source": [
    "\n",
    "def lossCalculation_cross(Y_pred,Y_train):\n",
    "    #print(Y_pred.shape)\n",
    "    #print(Y_train.shape)\n",
    "    cost = - ( np.sum( Y_train * np.log(Y_pred) ) )\n",
    "    cost = np.squeeze(cost)    \n",
    "    \n",
    "    return cost\n",
    "   \n",
    "   "
   ]
  },
  {
   "cell_type": "code",
   "execution_count": 29,
   "metadata": {
    "collapsed": true
   },
   "outputs": [],
   "source": [
    "def softmax_numpy(scores):\n",
    "    \n",
    "    \n",
    "    return np.exp(scores)/sum(np.exp(scores))"
   ]
  },
  {
   "cell_type": "code",
   "execution_count": 30,
   "metadata": {
    "collapsed": true
   },
   "outputs": [],
   "source": [
    "np.random.seed(1)\n",
    "class Layer:\n",
    "    def __init__(self, no_of_layer,no_of_neuron,input_dimensions,n,activation_func):\n",
    "        self.no_of_layer=no_of_layer\n",
    "        self.no_of_neuron=no_of_neuron\n",
    "        self.A=np.zeros((no_of_neuron,n))\n",
    "        self.Z=np.zeros((no_of_neuron,n))\n",
    "        self.weight=np.random.rand(no_of_neuron, input_dimensions)/ np.sqrt(input_dimensions)\n",
    "        self.bias=np.random.rand(no_of_neuron,1)\n",
    "        self.dA=np.zeros((no_of_neuron,n))\n",
    "        self.dZ=np.zeros((no_of_neuron,n))\n",
    "        self.dB=np.zeros((no_of_neuron,1))\n",
    "        self.dW=np.random.rand(no_of_neuron, input_dimensions)\n",
    "        self.Activation_func=activation_func\n"
   ]
  },
  {
   "cell_type": "code",
   "execution_count": 31,
   "metadata": {
    "collapsed": true
   },
   "outputs": [],
   "source": [
    "def initialize_network():\n",
    "    \n",
    "    \n",
    "    layer=Layer(1,neurons_per_layer[0],input_dim,1,activation_func=activation_func)\n",
    "    layers.append(layer)\n",
    "    for i in range(1,len(neurons_per_layer)):\n",
    "        #print(i)\n",
    "        layer=Layer(i,neurons_per_layer[i],layers[i-1].no_of_neuron,1,activation_func)\n",
    "        #print(layer.weight)\n",
    "        layers.append(layer)\n",
    "        #print(each_layer)\n"
   ]
  },
  {
   "cell_type": "code",
   "execution_count": 32,
   "metadata": {
    "collapsed": true
   },
   "outputs": [],
   "source": [
    "def forward_prop(Image_index_,data):\n",
    "    Image_index=Image_index_\n",
    "    Image_=data[Image_index]\n",
    "    Image_=Image_.reshape((784,1))\n",
    "    weight_=layers[0].weight\n",
    "    bias_=layers[0].bias\n",
    "    Z=np.dot(weight_,Image_)+bias_\n",
    "    layers[0].Z=Z\n",
    "    A=sigmoid(Z)\n",
    "    layers[0].A=A\n",
    "    layers[0].dA=A*(1-A)\n",
    "    for i,each_layer in enumerate(neurons_per_layer):\n",
    "        if i > 0: \n",
    "            #print(i)\n",
    "            weight_=layers[i].weight\n",
    "            #print(weight_.shape)\n",
    "            bias_=layers[i].bias            \n",
    "            Z=np.dot(weight_,layers[i-1].A)+bias_\n",
    "            layers[i].Z=Z\n",
    "            #print(Z.shape)\n",
    "            if i== len(neurons_per_layer)-1:\n",
    "                A=softmax_numpy(Z)\n",
    "                layers[i].A=A\n",
    "            else:\n",
    "                A=sigmoid(Z)\n",
    "                layers[i].A=A\n",
    "            if i != len(neurons_per_layer)-1:\n",
    "                layers[i].dA=A*(1-A)\n",
    "\n",
    "            #print(A.shape)"
   ]
  },
  {
   "cell_type": "code",
   "execution_count": null,
   "metadata": {
    "collapsed": true
   },
   "outputs": [],
   "source": []
  },
  {
   "cell_type": "code",
   "execution_count": 33,
   "metadata": {
    "collapsed": true
   },
   "outputs": [],
   "source": [
    "#forward_prop(0,test_x_Mean_subtracted_flatten)"
   ]
  },
  {
   "cell_type": "code",
   "execution_count": null,
   "metadata": {
    "collapsed": true,
    "scrolled": true
   },
   "outputs": [],
   "source": []
  },
  {
   "cell_type": "code",
   "execution_count": 34,
   "metadata": {
    "collapsed": true
   },
   "outputs": [],
   "source": [
    "def back_pro(Image_index_,lr_): \n",
    "    lr=lr_\n",
    "    Image_index=Image_index_\n",
    "    Image_=train_x_Mean_subtracted_flatten[Image_index].reshape((784,1))\n",
    "    for j in range(1,len(neurons_per_layer)+1):\n",
    "        i=len(neurons_per_layer)-j\n",
    "        #print(i)\n",
    "        if i==len(neurons_per_layer)-1:\n",
    "            Y_train=train_label_OHE[Image_index].reshape(10,1)\n",
    "            layers[i].dZ=layers[i].A-Y_train\n",
    "            layers[i].dW=np.dot(layers[i].dZ,layers[i-1].A.T)\n",
    "            layers[i].dB=np.sum(layers[i].dZ,axis=1,keepdims=True)\n",
    "            #layers[i].weight=layers[i].weight - (lr * layers[i].dW)\n",
    "        else:\n",
    "            if i>0:\n",
    "                layers[i].dZ=np.dot(layers[i+1].weight.T,layers[i+1].dZ)*layers[i].dA\n",
    "                layers[i].dW=np.dot(layers[i].Z,layers[i-1].A.T)\n",
    "                layers[i].dB=np.sum(layers[i].dZ,axis=1,keepdims=True)\n",
    "                #layers[i].weight=layers[i].weight - (lr * layers[i].dW)\n",
    "            else:\n",
    "                layers[i].dZ=np.dot(layers[i+1].weight.T,layers[i+1].dZ)*layers[i].dA\n",
    "                layers[i].dW=np.dot(layers[i].dZ,Image_.T)\n",
    "                layers[i].dB=np.sum(layers[i].dZ,axis=1,keepdims=True)\n",
    "#         print('dZ:\\t ',i,'\\t',layers[i].dZ)\n",
    "#         print('dW:\\t ',i,'\\t',layers[i].dW)\n",
    "#         print('dB:\\t ',i,'\\t',layers[i].dB)\n",
    "                #layers[i].weight=layers[i].weight - (lr * layers[i].dW)\n",
    "    \n",
    "    for j in range(1,len(neurons_per_layer)+1):\n",
    "        \n",
    "        i=len(neurons_per_layer)-j\n",
    "#         if np.isnan(np.min(layers[0].weight)):\n",
    "#             print(Image_index_)\n",
    "        layers[i].weight=layers[i].weight - (lr * layers[i].dW)\n",
    "        layers[i].bias=layers[i].bias - (lr * layers[i].dB)\n",
    "        #print(layers[i].weight.shape)\n",
    "        \n",
    "        "
   ]
  },
  {
   "cell_type": "code",
   "execution_count": 35,
   "metadata": {
    "collapsed": true
   },
   "outputs": [],
   "source": [
    "def Calculate_accuracy():\n",
    "\n",
    "    classified_list=list()\n",
    "    for i in range(len(test_x_Mean_subtracted_flatten)):\n",
    "        test_image_index=i\n",
    "\n",
    "        forward_prop(test_image_index,test_x_Mean_subtracted_flatten)\n",
    "        Y_predict=layers[len(neurons_per_layer)-1].A\n",
    "        Y_hat=test_label_OHE[test_image_index].reshape((10,1))\n",
    "        is_Correctly_Classified =False\n",
    "        if Y_predict.argmax()==Y_hat.argmax():\n",
    "            is_Correctly_Classified=True\n",
    "        #print(Y_predict,'\\t',Y_hat,'\\t',is_Correctly_Classified,' ', i)\n",
    "        classified_list.append(is_Correctly_Classified)\n",
    "        \n",
    "    True_count=classified_list.count(True)\n",
    "    False_count =classified_list.count(False)\n",
    "    total=len(classified_list)\n",
    "    accuracy=True_count/total*100\n",
    "    return accuracy"
   ]
  },
  {
   "cell_type": "code",
   "execution_count": null,
   "metadata": {
    "collapsed": true
   },
   "outputs": [],
   "source": []
  },
  {
   "cell_type": "code",
   "execution_count": 36,
   "metadata": {
    "collapsed": true
   },
   "outputs": [],
   "source": [
    "# layers[0].weight"
   ]
  },
  {
   "cell_type": "code",
   "execution_count": 37,
   "metadata": {},
   "outputs": [
    {
     "name": "stdout",
     "output_type": "stream",
     "text": [
      "Epoch:  0\n",
      "Mean_loss:  0.5714853842271198\n",
      "Accuracy:  91.19\n",
      "Epoch:  1\n",
      "Mean_loss:  0.3024718848596245\n",
      "Accuracy:  92.04\n",
      "Epoch:  2\n",
      "Mean_loss:  0.27422663055920715\n",
      "Accuracy:  92.36999999999999\n",
      "Epoch:  3\n",
      "Mean_loss:  0.2579810704295873\n",
      "Accuracy:  92.55\n",
      "Epoch:  4\n",
      "Mean_loss:  0.24706646469617805\n",
      "Accuracy:  92.67\n",
      "Epoch:  5\n",
      "Mean_loss:  0.23901272936068838\n",
      "Accuracy:  92.83\n",
      "Epoch:  6\n",
      "Mean_loss:  0.2325615054673689\n",
      "Accuracy:  93.0\n",
      "Epoch:  7\n",
      "Mean_loss:  0.22724302152536108\n",
      "Accuracy:  93.07\n",
      "Epoch:  8\n",
      "Mean_loss:  0.222782031328843\n",
      "Accuracy:  93.06\n",
      "Epoch:  9\n",
      "Mean_loss:  0.21896678629104643\n",
      "Accuracy:  93.19\n"
     ]
    },
    {
     "data": {
      "image/png": "[encoded data removed]",
      "text/plain": [
       "<matplotlib.figure.Figure at 0x7b5ef60>"
      ]
     },
     "metadata": {},
     "output_type": "display_data"
    }
   ],
   "source": [
    "no_of_layers=2\n",
    "input_dim=784\n",
    "neurons_per_layer=[10,10]\n",
    "layers=[]\n",
    "activation_func='sigmoid'\n",
    "initialize_network()\n",
    "mean_loss_list=list()\n",
    "epochs=10\n",
    "for epoch_num in range(epochs):\n",
    "    loss_list=list()\n",
    "    for i in range(0,60000):\n",
    "        forward_prop(i,train_x_Mean_subtracted_flatten)\n",
    "        loss_list.append(lossCalculation_cross(layers[len(neurons_per_layer)-1].A,train_label_OHE[i].reshape((10,1))))\n",
    "        back_pro(i,0.01)\n",
    "    print('Epoch: ',epoch_num)\n",
    "    print('Mean_loss: ',np.mean(loss_list))\n",
    "    mean_loss_list.append(np.mean(loss_list))\n",
    "    acc=Calculate_accuracy()\n",
    "    print('Accuracy: ',acc)\n",
    "plt.plot(mean_loss_list)\n",
    "plt.show()"
   ]
  },
  {
   "cell_type": "code",
   "execution_count": null,
   "metadata": {
    "collapsed": true
   },
   "outputs": [],
   "source": []
  },
  {
   "cell_type": "code",
   "execution_count": null,
   "metadata": {
    "collapsed": true
   },
   "outputs": [],
   "source": []
  }
 ],
 "metadata": {
  "kernelspec": {
   "display_name": "Python 3",
   "language": "python",
   "name": "python3"
  },
  "language_info": {
   "codemirror_mode": {
    "name": "ipython",
    "version": 3
   },
   "file_extension": ".py",
   "mimetype": "text/x-python",
   "name": "python",
   "nbconvert_exporter": "python",
   "pygments_lexer": "ipython3",
   "version": "3.6.8"
  }
 },
 "nbformat": 4,
 "nbformat_minor": 2
}
